{
  "nbformat": 4,
  "nbformat_minor": 0,
  "metadata": {
    "colab": {
      "name": "MLatFIAN2020_seminar06_CrossValidationRiddle.ipynb",
      "provenance": [],
      "include_colab_link": true
    },
    "kernelspec": {
      "name": "python3",
      "display_name": "Python 3"
    }
  },
  "cells": [
    {
      "cell_type": "markdown",
      "metadata": {
        "id": "view-in-github",
        "colab_type": "text"
      },
      "source": [
        "<a href=\"https://colab.research.google.com/github/Kiarendil/ML_FIAN2020_hometasks/blob/master/MLatFIAN2020_seminar06_CrossValidationRiddle.ipynb\" target=\"_parent\"><img src=\"https://colab.research.google.com/assets/colab-badge.svg\" alt=\"Open In Colab\"/></a>"
      ]
    },
    {
      "cell_type": "markdown",
      "metadata": {
        "id": "Ij_zY4soDF2Z"
      },
      "source": [
        "# Cross-validation riddle"
      ]
    },
    {
      "cell_type": "markdown",
      "metadata": {
        "id": "qUCsY5OlDJPl"
      },
      "source": [
        "Here's a small example of cross-validation done wrongly. Can you spot the problem?"
      ]
    },
    {
      "cell_type": "code",
      "metadata": {
        "id": "mSUzkXsC-R4H"
      },
      "source": [
        "# Some imports...\n",
        "import numpy as np\n",
        "import matplotlib.pyplot as plt\n",
        "\n",
        "from sklearn.svm import LinearSVC\n",
        "from sklearn.model_selection import KFold, cross_val_score\n",
        "from sklearn.metrics import accuracy_score\n",
        "from tqdm import trange\n",
        "from sklearn.pipeline import make_pipeline"
      ],
      "execution_count": 1,
      "outputs": []
    },
    {
      "cell_type": "markdown",
      "metadata": {
        "id": "ZyDp3Xc_DaDM"
      },
      "source": [
        "**Plan:**\n",
        "\n",
        "- Let's create a binary classification dataset where targets are completely independent from the features\n",
        "  - *(i.e. no model could ever predict them well)*\n",
        "- We'll do some simple feature selection\n",
        "- And cross-validate a model on this data\n",
        "\n",
        "**Q:** what accuracy do we expect (classes are even)?"
      ]
    },
    {
      "cell_type": "markdown",
      "metadata": {
        "id": "IHx51DKP8Rcf"
      },
      "source": [
        "We'll start from writing a class to select the best features:"
      ]
    },
    {
      "cell_type": "code",
      "metadata": {
        "id": "rRNmKZJJ8W7x"
      },
      "source": [
        "class FeatureSelector:\n",
        "  def __init__(self, num_features):\n",
        "    self.n = num_features # number of best features to select\n",
        "\n",
        "  def fit(self, X, y):\n",
        "    # Select features that describe the targets best, i.e. have\n",
        "    # highest correlation with them:\n",
        "    covariance = ((X - X.mean(axis=0)) * (y[:,np.newaxis] - y.mean())).mean(axis=0)\n",
        "    self.best_feature_ids = np.argsort(np.abs(covariance))[-self.n:]\n",
        "\n",
        "  def transform(self, X):\n",
        "    return X[:,self.best_feature_ids]\n",
        "\n",
        "  def fit_transform(self, X, y):\n",
        "    self.fit(X, y)\n",
        "    return self.transform(X)"
      ],
      "execution_count": 2,
      "outputs": []
    },
    {
      "cell_type": "code",
      "metadata": {
        "id": "6mu9gHgNBk_V",
        "outputId": "6e910aae-f324-4d75-cdd4-0190c573e06c",
        "colab": {
          "base_uri": "https://localhost:8080/",
          "height": 34
        }
      },
      "source": [
        "num_features_total = 1000\n",
        "num_features_best = 100\n",
        "\n",
        "N = 200\n",
        "\n",
        "# Dataset generation\n",
        "X = np.random.normal(size=(N, num_features_total))\n",
        "y = np.random.randint(2, size=N)\n",
        "\n",
        "# Feature selection:\n",
        "X_best = FeatureSelector(num_features_best).fit_transform(X, y)\n",
        "\n",
        "# Simple classification model\n",
        "model = LinearSVC()\n",
        "\n",
        "# Estimatin accuracy using cross-validation:\n",
        "cv_score = cross_val_score(model, X_best, y, scoring='accuracy', cv=10, n_jobs=-1).mean()\n",
        "print(f\"CV score is {cv_score}\")"
      ],
      "execution_count": 3,
      "outputs": [
        {
          "output_type": "stream",
          "text": [
            "CV score is 0.805\n"
          ],
          "name": "stdout"
        }
      ]
    },
    {
      "cell_type": "markdown",
      "metadata": {
        "id": "afadN3ZVFKjF"
      },
      "source": [
        "What's going on?! Why accuracy is so high?\n",
        "\n",
        "Maybe it just happened by chance? Let's repeat this experiment many times and histogram the results:"
      ]
    },
    {
      "cell_type": "code",
      "metadata": {
        "id": "QDbOMXnuC6uw",
        "outputId": "94ba0a40-dc3d-48cf-e48d-1987aecd38ea",
        "colab": {
          "base_uri": "https://localhost:8080/",
          "height": 265
        }
      },
      "source": [
        "num_features_total = 1000\n",
        "num_features_best = 100\n",
        "\n",
        "N = 200\n",
        "def experiment():\n",
        "  # Dataset generation\n",
        "  X = np.random.normal(size=(N, num_features_total))\n",
        "  y = np.random.randint(2, size=N)\n",
        "\n",
        "  # Feature selection:\n",
        "  X_best = FeatureSelector(num_features_best).fit_transform(X, y)\n",
        "\n",
        "  # Simple classification model\n",
        "  model = LinearSVC()\n",
        "\n",
        "  # Estimatin accuracy using cross-validation:\n",
        "  return cross_val_score(model, X_best, y, scoring='accuracy', cv=10, n_jobs=-1).mean()\n",
        "\n",
        "results = [experiment() for _ in range(100)]\n",
        "plt.hist(results, bins=10);"
      ],
      "execution_count": 4,
      "outputs": [
        {
          "output_type": "display_data",
          "data": {
            "image/png": "[encoded data removed]",
            "text/plain": [
              "<Figure size 432x288 with 1 Axes>"
            ]
          },
          "metadata": {
            "tags": [],
            "needs_background": "light"
          }
        }
      ]
    },
    {
      "cell_type": "markdown",
      "metadata": {
        "id": "8bLaEypoF5pb"
      },
      "source": [
        "Explain why the estimated model accuracy is not 50% on a dataset where targets were generated **independently from the features (!!!)**.\n",
        "\n",
        "Find and fix the problem.\n",
        "\n",
        "*Hint: the problem is in the overall logic, and not a bug in the code.*"
      ]
    },
    {
      "cell_type": "code",
      "metadata": {
        "id": "EfT36WPTLyqB",
        "outputId": "d9bb8e77-5996-4935-f9a2-b184f6738076",
        "colab": {
          "base_uri": "https://localhost:8080/",
          "height": 34
        }
      },
      "source": [
        "num_features_total = 1000\n",
        "num_features_best = 100\n",
        "\n",
        "N = 200\n",
        "\n",
        "# Dataset generation\n",
        "X = np.random.normal(size=(N, num_features_total))\n",
        "y = np.random.randint(2, size=N)\n",
        "\n",
        "# Simple classification model\n",
        "# model = LinearSVC()\n",
        "model = make_pipeline(FeatureSelector(num_features_best), \n",
        "                      LinearSVC(),\n",
        "                      )\n",
        "\n",
        "# Estimatin accuracy using cross-validation:\n",
        "cv_score = cross_val_score(model, X, y, scoring='accuracy', cv=10, n_jobs=-1).mean()\n",
        "print(f\"CV score is {cv_score}\")"
      ],
      "execution_count": 5,
      "outputs": [
        {
          "output_type": "stream",
          "text": [
            "CV score is 0.5050000000000001\n"
          ],
          "name": "stdout"
        }
      ]
    },
    {
      "cell_type": "code",
      "metadata": {
        "id": "YOocn4o6wpyp",
        "outputId": "05d236c0-d58a-4373-de6f-d8aaafde5fc5",
        "colab": {
          "base_uri": "https://localhost:8080/",
          "height": 317
        }
      },
      "source": [
        "num_features_total = 1000\n",
        "num_features_best = 100\n",
        "\n",
        "N = 200\n",
        "\n",
        "def experiment():\n",
        "  # Dataset generation\n",
        "  X = np.random.normal(size=(N, num_features_total))\n",
        "  y = np.random.randint(2, size=N)\n",
        "\n",
        "  # Feature selection:\n",
        "  X_best = FeatureSelector(num_features_best).fit_transform(X, y)\n",
        "\n",
        "  # Simple classification model\n",
        "  model = LinearSVC()\n",
        "\n",
        "  # Estimatin accuracy using cross-validation:\n",
        "  return cross_val_score(model, X_best, y, scoring='accuracy', cv=10, n_jobs=-1).mean()\n",
        "\n",
        "def experiment_fixed():\n",
        "  # Dataset generation\n",
        "  X = np.random.normal(size=(N, num_features_total))\n",
        "  y = np.random.randint(2, size=N)\n",
        "\n",
        "  # Simple classification model +  Feature selection\n",
        "  model = make_pipeline(FeatureSelector(num_features_best), \n",
        "                      LinearSVC(),\n",
        "                      )\n",
        "\n",
        "  # Estimatin accuracy using cross-validation:\n",
        "  return cross_val_score(model, X, y, scoring='accuracy', cv=10, n_jobs=-1).mean()\n",
        "\n",
        "results = [experiment() for _ in trange(200)]\n",
        "results_fixed = [experiment_fixed() for _ in trange(200)]\n",
        "plt.hist(results, bins=20, label='Old_model');\n",
        "plt.hist(results_fixed, bins=20, label='Fixed model');\n",
        "plt.legend()"
      ],
      "execution_count": 6,
      "outputs": [
        {
          "output_type": "stream",
          "text": [
            "100%|██████████| 200/200 [00:12<00:00, 16.43it/s]\n",
            "100%|██████████| 200/200 [00:37<00:00,  5.29it/s]\n"
          ],
          "name": "stderr"
        },
        {
          "output_type": "execute_result",
          "data": {
            "text/plain": [
              "<matplotlib.legend.Legend at 0x7f0333864588>"
            ]
          },
          "metadata": {
            "tags": []
          },
          "execution_count": 6
        },
        {
          "output_type": "display_data",
          "data": {
            "image/png": "[encoded data removed]",
            "text/plain": [
              "<Figure size 432x288 with 1 Axes>"
            ]
          },
          "metadata": {
            "tags": [],
            "needs_background": "light"
          }
        }
      ]
    },
    {
      "cell_type": "code",
      "metadata": {
        "id": "nhHOvOSrw_oe"
      },
      "source": [
        ""
      ],
      "execution_count": null,
      "outputs": []
    }
  ]
}