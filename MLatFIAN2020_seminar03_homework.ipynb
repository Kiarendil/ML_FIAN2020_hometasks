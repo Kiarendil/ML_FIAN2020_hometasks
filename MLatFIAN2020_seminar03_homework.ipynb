{
  "nbformat": 4,
  "nbformat_minor": 0,
  "metadata": {
    "colab": {
      "name": "MLatFIAN2020-seminar03-homework.ipynb",
      "provenance": [],
      "collapsed_sections": [],
      "toc_visible": true,
      "include_colab_link": true
    },
    "kernelspec": {
      "name": "python3",
      "display_name": "Python 3"
    }
  },
  "cells": [
    {
      "cell_type": "markdown",
      "metadata": {
        "id": "view-in-github",
        "colab_type": "text"
      },
      "source": [
        "<a href=\"https://colab.research.google.com/github/Kiarendil/ML_FIAN2020_hometasks/blob/master/MLatFIAN2020_seminar03_homework.ipynb\" target=\"_parent\"><img src=\"https://colab.research.google.com/assets/colab-badge.svg\" alt=\"Open In Colab\"/></a>"
      ]
    },
    {
      "cell_type": "markdown",
      "metadata": {
        "id": "VyNyFPNLVxuA"
      },
      "source": [
        "# Boston housing dataset"
      ]
    },
    {
      "cell_type": "markdown",
      "metadata": {
        "id": "UAiD9r1mV5ka"
      },
      "source": [
        "Use the data and model from the seminar:"
      ]
    },
    {
      "cell_type": "code",
      "metadata": {
        "id": "gIxJDCLGXJ6W"
      },
      "source": [
        "import matplotlib.pyplot as plt\n",
        "from sklearn.datasets import load_boston\n",
        "import pandas as pd\n",
        "import numpy as np\n",
        "\n",
        "from sklearn.linear_model import Ridge\n",
        "from sklearn.pipeline import make_pipeline\n",
        "from sklearn.preprocessing import PolynomialFeatures\n",
        "from sklearn.metrics import mean_squared_error\n",
        "from sklearn.model_selection import train_test_split"
      ],
      "execution_count": 1,
      "outputs": []
    },
    {
      "cell_type": "code",
      "metadata": {
        "id": "20pkSnXwX5fW"
      },
      "source": [
        "columns = [\"CRIM\", \"RM\", \"LSTAT\"]\n",
        "\n",
        "data = load_boston()\n",
        "X = pd.DataFrame(data.data, columns=data.feature_names)[columns]\n",
        "X /= X.max()\n",
        "y = data.target"
      ],
      "execution_count": 2,
      "outputs": []
    },
    {
      "cell_type": "code",
      "metadata": {
        "id": "O1yoR0D2fZcM",
        "outputId": "91c1b69a-95d1-4761-a6aa-5daec5de8296",
        "colab": {
          "base_uri": "https://localhost:8080/",
          "height": 51
        }
      },
      "source": [
        "X_train, X_test, y_train, y_test = train_test_split(X, y, test_size=50, random_state=42)\n",
        "\n",
        "model = make_pipeline(\n",
        "    PolynomialFeatures(9, include_bias=False),\n",
        "    Ridge(alpha=0.1)\n",
        ")\n",
        "\n",
        "model.fit(X_train, y_train)\n",
        "\n",
        "print('train mse = ', mean_squared_error(y_train, model.predict(X_train)))\n",
        "print('test mse = ', mean_squared_error(y_test, model.predict(X_test)))"
      ],
      "execution_count": 3,
      "outputs": [
        {
          "output_type": "stream",
          "text": [
            "train mse =  19.312028078112938\n",
            "test mse =  8.517501881762888\n"
          ],
          "name": "stdout"
        }
      ]
    },
    {
      "cell_type": "markdown",
      "metadata": {
        "id": "ercMxDDhkddQ"
      },
      "source": [
        "# Task 1"
      ]
    },
    {
      "cell_type": "markdown",
      "metadata": {
        "id": "S1PKO5ebkjsM"
      },
      "source": [
        "Use `sklearn.model_selection.cross_validate` to perform K-fold cross-validation of the model above. Plot histograms of train and test scores (`\"neg_mean_squared_error\"`) on the same plot.\n",
        "\n",
        "Do that for 10 and 100 folds.\n",
        "\n",
        "See the docs for more details about the function: https://scikit-learn.org/stable/modules/generated/sklearn.model_selection.cross_validate.html"
      ]
    },
    {
      "cell_type": "code",
      "metadata": {
        "id": "8mPbo3d8gG-w"
      },
      "source": [
        "from sklearn.model_selection import cross_validate"
      ],
      "execution_count": 4,
      "outputs": []
    },
    {
      "cell_type": "code",
      "metadata": {
        "id": "uRjHKo-MkxJX"
      },
      "source": [
        "cv_results = cross_validate(model, X_train, y_train, cv=10,\n",
        "                                  scoring=('neg_mean_squared_error'), \n",
        "                                  return_train_score=True)"
      ],
      "execution_count": 5,
      "outputs": []
    },
    {
      "cell_type": "code",
      "metadata": {
        "id": "PXGju12xQPSX",
        "outputId": "f7b4919f-d151-412a-cc8f-6d27672e189b",
        "colab": {
          "base_uri": "https://localhost:8080/",
          "height": 187
        }
      },
      "source": [
        "cv_results"
      ],
      "execution_count": 6,
      "outputs": [
        {
          "output_type": "execute_result",
          "data": {
            "text/plain": [
              "{'fit_time': array([0.01340318, 0.00804043, 0.0080955 , 0.00734735, 0.00819278,\n",
              "        0.00707316, 0.00684452, 0.00746679, 0.00729442, 0.00762892]),\n",
              " 'score_time': array([0.00204325, 0.00203395, 0.00208521, 0.00191689, 0.00196624,\n",
              "        0.001724  , 0.0017488 , 0.00206017, 0.00212145, 0.00213385]),\n",
              " 'test_score': array([ -9.11445147, -35.42220347, -11.92802343, -33.36460671,\n",
              "        -38.82506325, -14.8747401 , -17.40060746, -15.30960508,\n",
              "        -10.85423431, -28.77816122]),\n",
              " 'train_score': array([-20.60695375, -17.65869978, -20.15941141, -18.04916118,\n",
              "        -18.10781828, -19.9956464 , -19.6681446 , -19.85160606,\n",
              "        -20.34717659, -18.38845338])}"
            ]
          },
          "metadata": {
            "tags": []
          },
          "execution_count": 6
        }
      ]
    },
    {
      "cell_type": "code",
      "metadata": {
        "id": "e-91FvAdSMMn",
        "outputId": "7abad9d3-fab2-4369-cc7a-3ba5b865a030",
        "colab": {
          "base_uri": "https://localhost:8080/",
          "height": 314
        }
      },
      "source": [
        "bins = np.linspace(0, 50, 50)\n",
        "\n",
        "plt.hist(-cv_results['train_score'], label='train', bins=bins)\n",
        "plt.hist(-cv_results['test_score'], label='test', bins=bins)\n",
        "plt.xlabel(\"neg_mean_squared_error\")\n",
        "plt.legend()\n",
        "plt.show()\n",
        "\n",
        "print('mean train = ', -cv_results['train_score'].mean())\n",
        "print('mean test = ', -cv_results['test_score'].mean())"
      ],
      "execution_count": 18,
      "outputs": [
        {
          "output_type": "display_data",
          "data": {
            "image/png": "[encoded data removed]",
            "text/plain": [
              "<Figure size 432x288 with 1 Axes>"
            ]
          },
          "metadata": {
            "tags": [],
            "needs_background": "light"
          }
        },
        {
          "output_type": "stream",
          "text": [
            "mean train =  19.283307142248308\n",
            "mean test =  21.587169651926\n"
          ],
          "name": "stdout"
        }
      ]
    },
    {
      "cell_type": "code",
      "metadata": {
        "id": "dks9I5ZzYBgP",
        "outputId": "4016d55b-1f70-464e-ea51-631f5c0a3adf",
        "colab": {
          "base_uri": "https://localhost:8080/",
          "height": 1000
        }
      },
      "source": [
        "cv_results100 = cross_validate(model, X_train, y_train, cv=100,\n",
        "                                  scoring=('neg_mean_squared_error'), \n",
        "                                  return_train_score=True)\n",
        "cv_results100"
      ],
      "execution_count": 9,
      "outputs": [
        {
          "output_type": "execute_result",
          "data": {
            "text/plain": [
              "{'fit_time': array([0.01748991, 0.01097798, 0.00893903, 0.01071906, 0.00756097,\n",
              "        0.00726342, 0.00927997, 0.00828719, 0.00787497, 0.00782657,\n",
              "        0.00782442, 0.00823402, 0.00760078, 0.00752854, 0.0073235 ,\n",
              "        0.00763702, 0.00767851, 0.00780654, 0.00742602, 0.00756145,\n",
              "        0.00752091, 0.00764751, 0.00777435, 0.00737619, 0.00757265,\n",
              "        0.00855589, 0.00771236, 0.00730896, 0.00738096, 0.0073545 ,\n",
              "        0.00740552, 0.00724888, 0.00768065, 0.00944424, 0.00738788,\n",
              "        0.007617  , 0.00740695, 0.00711656, 0.00703335, 0.00711513,\n",
              "        0.00691938, 0.00722218, 0.00774002, 0.00731945, 0.0071764 ,\n",
              "        0.00743771, 0.00743556, 0.00773525, 0.0076499 , 0.00708246,\n",
              "        0.00698757, 0.00697351, 0.00693274, 0.0070312 , 0.00700784,\n",
              "        0.00709009, 0.00714612, 0.00738215, 0.00713778, 0.00693727,\n",
              "        0.00734329, 0.00767255, 0.00780463, 0.00744152, 0.00727606,\n",
              "        0.00762057, 0.00869322, 0.01913047, 0.00803971, 0.00843716,\n",
              "        0.00814009, 0.00801468, 0.00827312, 0.00783801, 0.00748563,\n",
              "        0.00850606, 0.0080266 , 0.00775027, 0.00795341, 0.00864959,\n",
              "        0.0082891 , 0.00786686, 0.00862336, 0.00786591, 0.00775576,\n",
              "        0.00771666, 0.00794411, 0.00772262, 0.00786686, 0.00781608,\n",
              "        0.00836158, 0.00746131, 0.00719547, 0.00723886, 0.00725222,\n",
              "        0.00696135, 0.00719976, 0.00725818, 0.00714827, 0.00740266]),\n",
              " 'score_time': array([0.00165534, 0.00188231, 0.00194335, 0.00188565, 0.00164294,\n",
              "        0.00172281, 0.00243163, 0.00209332, 0.00186586, 0.00185347,\n",
              "        0.00182915, 0.0019381 , 0.00223708, 0.00175548, 0.00191545,\n",
              "        0.00177026, 0.00175905, 0.00194097, 0.00177169, 0.00178289,\n",
              "        0.00182724, 0.00183463, 0.00175834, 0.00169945, 0.00195098,\n",
              "        0.00196624, 0.00183082, 0.00170684, 0.00168872, 0.00182009,\n",
              "        0.00170636, 0.00166154, 0.00179005, 0.00176668, 0.00168729,\n",
              "        0.00185919, 0.00167704, 0.00162339, 0.00165987, 0.00156403,\n",
              "        0.0015831 , 0.00161242, 0.0020144 , 0.00167179, 0.00163007,\n",
              "        0.00180292, 0.00172734, 0.00172782, 0.00162244, 0.00168347,\n",
              "        0.00278783, 0.00152016, 0.00158095, 0.00157499, 0.00158453,\n",
              "        0.00170708, 0.00172234, 0.0019362 , 0.00151134, 0.00157738,\n",
              "        0.00176406, 0.00223804, 0.00178623, 0.00177312, 0.00163436,\n",
              "        0.00203037, 0.00190902, 0.00388694, 0.0017693 , 0.00196767,\n",
              "        0.00184202, 0.00189924, 0.00189042, 0.00167108, 0.00281119,\n",
              "        0.00187373, 0.00182867, 0.00179505, 0.00204206, 0.00210452,\n",
              "        0.00177002, 0.00181127, 0.00172424, 0.00179124, 0.00173807,\n",
              "        0.00169349, 0.00217962, 0.00179815, 0.00182557, 0.00174689,\n",
              "        0.00194812, 0.00169182, 0.00167418, 0.00164986, 0.0015893 ,\n",
              "        0.00162601, 0.00165629, 0.00162077, 0.00171089, 0.00163841]),\n",
              " 'test_score': array([  -7.11368927,   -5.9895581 ,   -4.88138913,  -11.38161851,\n",
              "          -7.98517168,  -21.88082424,   -7.4434895 ,   -4.69321419,\n",
              "         -13.12916058, -171.93766433,   -7.64309327,   -5.89323467,\n",
              "         -79.40116926,  -16.21041852,   -5.72675699,  -14.3257978 ,\n",
              "         -11.62789906,   -8.24470862,  -14.99904734,   -2.35396995,\n",
              "          -7.70048781,   -4.88608945,  -22.01855938,  -30.42176722,\n",
              "         -20.2604116 ,   -5.13759162,   -2.80193495,  -78.39027226,\n",
              "          -3.88126642,   -1.9420743 ,   -8.17968827,   -6.17198506,\n",
              "          -8.26087177,   -6.60052101,  -30.8206471 , -161.93761954,\n",
              "          -9.42114514, -249.40214692,  -22.77145652,   -5.85088881,\n",
              "          -9.29752299,   -3.59014913,  -14.42221194,   -9.28418929,\n",
              "          -7.67563793,  -20.71013404,   -7.66160822,   -6.35528464,\n",
              "          -6.39752002,  -57.67556547,  -23.40373901,   -5.96037653,\n",
              "         -21.46183799,   -6.21160382,   -8.18740467,  -21.57659849,\n",
              "         -26.46581649,   -8.72923968,  -16.32427524,   -5.32968917,\n",
              "          -5.11215495,  -24.44636611,  -15.20940108,  -20.6275722 ,\n",
              "         -13.19253628,   -2.90460523,  -30.75553059,  -16.64085292,\n",
              "         -14.22042202,  -12.57250721,   -9.64130516,  -14.43134969,\n",
              "         -26.1509114 ,  -18.56379901,  -16.00482382,  -14.15387994,\n",
              "          -6.46947843,  -35.53910375,   -9.15463483,   -4.62882062,\n",
              "          -7.10150081,   -6.21733947,  -16.24560792,  -18.1426618 ,\n",
              "         -22.10721675,  -16.61797794,   -1.03361475,   -4.84827587,\n",
              "          -0.99655421,   -7.46351535,   -0.76392081,   -8.11033724,\n",
              "          -0.74462089,   -6.63600102,  -18.68400445,   -3.74287002,\n",
              "        -202.83807906,  -61.29710127,   -3.27483455,   -9.97018825]),\n",
              " 'train_score': array([-19.46610895, -19.45721192, -19.47473829, -19.41043779,\n",
              "        -19.44120126, -19.29650241, -19.44812059, -19.47505547,\n",
              "        -19.47304899, -17.66825065, -19.45123531, -19.4713117 ,\n",
              "        -18.63328138, -19.35635691, -19.47830564, -19.39366889,\n",
              "        -19.41706312, -19.43846018, -19.36954442, -19.49595193,\n",
              "        -19.44238864, -19.4697739 , -19.27525104, -19.19594019,\n",
              "        -19.31712977, -19.47337336, -19.49100854, -18.71979121,\n",
              "        -19.48870503, -19.50695678, -19.44385877, -19.45035898,\n",
              "        -19.43467332, -19.45342349, -19.21679638, -17.93333645,\n",
              "        -19.41037181, -17.56404219, -19.26870815, -19.459229  ,\n",
              "        -19.41240703, -19.48716569, -19.363465  , -19.41867116,\n",
              "        -19.44546751, -19.32638033, -19.44144531, -19.45952326,\n",
              "        -19.49776228, -18.96864086, -19.28122977, -19.46716528,\n",
              "        -19.29604755, -19.4507929 , -19.49953485, -19.31572077,\n",
              "        -19.28031813, -19.40979015, -19.34670242, -19.43393427,\n",
              "        -19.43703343, -19.28950794, -19.37313189, -19.27985249,\n",
              "        -19.37128854, -19.45609793, -19.2100027 , -19.33769435,\n",
              "        -19.38587391, -19.36661033, -19.41145441, -19.35335562,\n",
              "        -19.26723374, -19.32348301, -19.34358309, -19.35523569,\n",
              "        -19.42865972, -19.21654457, -19.40866492, -19.4412937 ,\n",
              "        -19.42226921, -19.429337  , -19.37259937, -19.33825243,\n",
              "        -19.2891852 , -19.36399951, -19.4713532 , -19.44190146,\n",
              "        -19.47256979, -19.42162774, -19.47755603, -19.40654766,\n",
              "        -19.47626226, -19.43455052, -19.30605701, -19.44827422,\n",
              "        -17.74157581, -18.98665877, -19.45398539, -19.39812474])}"
            ]
          },
          "metadata": {
            "tags": []
          },
          "execution_count": 9
        }
      ]
    },
    {
      "cell_type": "code",
      "metadata": {
        "id": "mQ-g2mU6c_Qt",
        "outputId": "33e23fb9-0725-4203-bba9-23490e0a030c",
        "colab": {
          "base_uri": "https://localhost:8080/",
          "height": 315
        }
      },
      "source": [
        "bins100 = np.linspace(0, 50, 50)\n",
        "\n",
        "plt.hist(-cv_results100['train_score'], label='train', bins = bins100)\n",
        "plt.hist(-cv_results100['test_score'], label='test', bins = bins100)\n",
        "plt.xlabel(\"neg_mean_squared_error\")\n",
        "plt.legend()\n",
        "plt.show()\n",
        "\n",
        "print('mean train = ', -cv_results100['train_score'].mean())\n",
        "print('mean test = ', -cv_results100['test_score'].mean())"
      ],
      "execution_count": 17,
      "outputs": [
        {
          "output_type": "display_data",
          "data": {
            "image/png": "[encoded data removed]",
            "text/plain": [
              "<Figure size 432x288 with 1 Axes>"
            ]
          },
          "metadata": {
            "tags": [],
            "needs_background": "light"
          }
        },
        {
          "output_type": "stream",
          "text": [
            "mean train =  19.309424266841145\n",
            "mean test =  21.2369598262141\n"
          ],
          "name": "stdout"
        }
      ]
    },
    {
      "cell_type": "code",
      "metadata": {
        "id": "EJrUe7qsdKsB"
      },
      "source": [
        ""
      ],
      "execution_count": null,
      "outputs": []
    }
  ]
}